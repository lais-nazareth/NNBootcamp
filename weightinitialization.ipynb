{
 "cells": [
  {
   "cell_type": "code",
   "execution_count": 1,
   "id": "3e819175-df79-4bca-ae44-7d6d74e1eb68",
   "metadata": {},
   "outputs": [],
   "source": [
    "import torch\n",
    "import torch.nn as nn"
   ]
  },
  {
   "cell_type": "code",
   "execution_count": 2,
   "id": "d570c712-1e95-45fd-9b79-4485c581a5f7",
   "metadata": {},
   "outputs": [],
   "source": [
    "layer = nn.Linear(5, 5)"
   ]
  },
  {
   "cell_type": "code",
   "execution_count": 3,
   "id": "1b32a717-e4cb-429a-a746-094910c25bfe",
   "metadata": {},
   "outputs": [
    {
     "data": {
      "text/plain": [
       "Parameter containing:\n",
       "tensor([[-0.2261, -0.1626,  0.2879,  0.3833,  0.4166],\n",
       "        [-0.0075,  0.2420, -0.0953, -0.1869, -0.1561],\n",
       "        [ 0.2992,  0.2055,  0.3184, -0.0184, -0.0202],\n",
       "        [ 0.0596,  0.0414, -0.0782,  0.2480, -0.4390],\n",
       "        [-0.4302,  0.0938,  0.4264,  0.4154, -0.1778]], requires_grad=True)"
      ]
     },
     "execution_count": 3,
     "metadata": {},
     "output_type": "execute_result"
    }
   ],
   "source": [
    "layer.weight"
   ]
  },
  {
   "cell_type": "code",
   "execution_count": 4,
   "id": "2eb99d01-1e38-4d12-83f6-98c3fae80e55",
   "metadata": {},
   "outputs": [
    {
     "data": {
      "text/plain": [
       "tensor([[-0.2261, -0.1626,  0.2879,  0.3833,  0.4166],\n",
       "        [-0.0075,  0.2420, -0.0953, -0.1869, -0.1561],\n",
       "        [ 0.2992,  0.2055,  0.3184, -0.0184, -0.0202],\n",
       "        [ 0.0596,  0.0414, -0.0782,  0.2480, -0.4390],\n",
       "        [-0.4302,  0.0938,  0.4264,  0.4154, -0.1778]])"
      ]
     },
     "execution_count": 4,
     "metadata": {},
     "output_type": "execute_result"
    }
   ],
   "source": [
    "layer.weight.data"
   ]
  },
  {
   "cell_type": "code",
   "execution_count": 6,
   "id": "61b3ecc1-e62d-4985-9162-21a394525780",
   "metadata": {},
   "outputs": [
    {
     "data": {
      "text/plain": [
       "Parameter containing:\n",
       "tensor([[1.5208, 1.5111, 1.3897, 1.4477, 1.1393],\n",
       "        [2.9407, 0.0597, 2.8236, 0.5844, 2.9073],\n",
       "        [2.6733, 2.1632, 2.1948, 1.2070, 0.5433],\n",
       "        [2.2288, 0.0946, 2.1565, 1.6376, 0.8656],\n",
       "        [0.6856, 2.6014, 0.3244, 2.3832, 2.7594]], requires_grad=True)"
      ]
     },
     "execution_count": 6,
     "metadata": {},
     "output_type": "execute_result"
    }
   ],
   "source": [
    "nn.init.uniform_(layer.weight, a=0.0, b=3)"
   ]
  },
  {
   "cell_type": "code",
   "execution_count": 9,
   "id": "e68bdfad-239d-4dac-a8ae-307983647644",
   "metadata": {},
   "outputs": [
    {
     "data": {
      "text/plain": [
       "Parameter containing:\n",
       "tensor([[-6.0694,  0.2148, -2.9516,  9.9172, -1.6191],\n",
       "        [ 6.9791,  3.7283, -3.0901,  1.1995, -6.2544],\n",
       "        [ 9.2221,  5.5033, -1.1483,  6.7040, -9.6536],\n",
       "        [ 4.6295, -3.0027,  7.8971,  3.0196, -9.5704],\n",
       "        [ 1.9040,  3.3241, -1.8030,  1.0561,  1.1724]], requires_grad=True)"
      ]
     },
     "execution_count": 9,
     "metadata": {},
     "output_type": "execute_result"
    }
   ],
   "source": [
    "nn.init.normal_(layer.weight, mean=0.0, std=5.0)"
   ]
  },
  {
   "cell_type": "code",
   "execution_count": 11,
   "id": "ac2c011f-9afd-4296-bf35-7a5d8cc3503f",
   "metadata": {},
   "outputs": [
    {
     "data": {
      "text/plain": [
       "Parameter containing:\n",
       "tensor([[8., 8., 8., 8., 8.],\n",
       "        [8., 8., 8., 8., 8.],\n",
       "        [8., 8., 8., 8., 8.],\n",
       "        [8., 8., 8., 8., 8.],\n",
       "        [8., 8., 8., 8., 8.]], requires_grad=True)"
      ]
     },
     "execution_count": 11,
     "metadata": {},
     "output_type": "execute_result"
    }
   ],
   "source": [
    "nn.init.constant_(layer.weight, 8)"
   ]
  },
  {
   "cell_type": "code",
   "execution_count": 12,
   "id": "a592bae3-f6d4-470e-a43f-93158bc0fef5",
   "metadata": {},
   "outputs": [
    {
     "data": {
      "text/plain": [
       "Parameter containing:\n",
       "tensor([0., 0., 0., 0., 0.], requires_grad=True)"
      ]
     },
     "execution_count": 12,
     "metadata": {},
     "output_type": "execute_result"
    }
   ],
   "source": [
    "nn.init.zeros_(layer.bias)"
   ]
  },
  {
   "cell_type": "code",
   "execution_count": 14,
   "id": "6c9fa3b2-95de-441b-883d-f14a8e859928",
   "metadata": {},
   "outputs": [
    {
     "data": {
      "text/plain": [
       "Parameter containing:\n",
       "tensor([0., 0., 0., 0., 0.], requires_grad=True)"
      ]
     },
     "execution_count": 14,
     "metadata": {},
     "output_type": "execute_result"
    }
   ],
   "source": [
    "layer.bias"
   ]
  },
  {
   "cell_type": "code",
   "execution_count": 15,
   "id": "714ff920-2807-4594-8eca-02d1ac9cba14",
   "metadata": {},
   "outputs": [
    {
     "data": {
      "text/plain": [
       "Parameter containing:\n",
       "tensor([[ 0.0556, -0.5919, -0.0126, -0.0458,  0.5056],\n",
       "        [ 0.1110,  0.3311, -0.4147,  0.2398, -0.2740],\n",
       "        [-0.6292, -0.0265,  0.1185, -0.1486, -0.2798],\n",
       "        [ 0.4694,  0.1773,  0.3806, -0.0617,  0.1598],\n",
       "        [ 0.6016, -0.3601,  0.5476,  0.5653,  0.6811]], requires_grad=True)"
      ]
     },
     "execution_count": 15,
     "metadata": {},
     "output_type": "execute_result"
    }
   ],
   "source": [
    "nn.init.xavier_uniform_(layer.weight, gain=1.0)"
   ]
  },
  {
   "cell_type": "code",
   "execution_count": 16,
   "id": "4617c945-cf8e-4d2b-914b-3d3f32636cb8",
   "metadata": {},
   "outputs": [
    {
     "data": {
      "text/plain": [
       "Parameter containing:\n",
       "tensor([[ 0.2042,  0.3754, -0.4550, -0.9629, -0.1855],\n",
       "        [ 0.0181,  0.1498, -0.7687, -0.4300,  0.0608],\n",
       "        [-0.5438, -0.3098, -0.5236,  0.3875, -0.2185],\n",
       "        [-0.1101, -0.5735,  0.1975,  0.1284, -0.5305],\n",
       "        [ 0.2480, -0.8304,  0.3206, -0.8253,  0.2510]], requires_grad=True)"
      ]
     },
     "execution_count": 16,
     "metadata": {},
     "output_type": "execute_result"
    }
   ],
   "source": [
    "nn.init.xavier_normal_(layer.weight, gain=1.0)"
   ]
  },
  {
   "cell_type": "code",
   "execution_count": null,
   "id": "f4b5429c-0e79-499f-be48-f2d388841245",
   "metadata": {},
   "outputs": [],
   "source": []
  }
 ],
 "metadata": {
  "kernelspec": {
   "display_name": "Python 3 (ipykernel)",
   "language": "python",
   "name": "python3"
  },
  "language_info": {
   "codemirror_mode": {
    "name": "ipython",
    "version": 3
   },
   "file_extension": ".py",
   "mimetype": "text/x-python",
   "name": "python",
   "nbconvert_exporter": "python",
   "pygments_lexer": "ipython3",
   "version": "3.13.5"
  }
 },
 "nbformat": 4,
 "nbformat_minor": 5
}
