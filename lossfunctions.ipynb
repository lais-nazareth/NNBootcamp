{
 "cells": [
  {
   "cell_type": "code",
   "execution_count": 4,
   "id": "49bd9462-ae24-48c8-8b54-9499c67e9e7b",
   "metadata": {},
   "outputs": [],
   "source": [
    "import torch\n",
    "import torch.nn as nn"
   ]
  },
  {
   "cell_type": "code",
   "execution_count": 5,
   "id": "bc84c557-2ce0-4704-8e90-5b4d8a986f02",
   "metadata": {},
   "outputs": [],
   "source": [
    "prediction = torch.randn(4, 5)"
   ]
  },
  {
   "cell_type": "code",
   "execution_count": 6,
   "id": "e8dc76bc-be9b-4559-bb9b-146521384c64",
   "metadata": {},
   "outputs": [],
   "source": [
    "label = torch.randn(4, 5)"
   ]
  },
  {
   "cell_type": "code",
   "execution_count": 17,
   "id": "d58f1133-4676-4bb7-b660-a04606c7ae88",
   "metadata": {},
   "outputs": [],
   "source": [
    "mse = nn.MSELoss(reduction = 'mean')"
   ]
  },
  {
   "cell_type": "code",
   "execution_count": 18,
   "id": "644eb1af-4e61-4bdf-b86f-bc26c9c585e2",
   "metadata": {},
   "outputs": [],
   "source": [
    "loss = mse(prediction, label)"
   ]
  },
  {
   "cell_type": "code",
   "execution_count": 19,
   "id": "cb8090eb-5ca6-4cfb-9092-1634a5fc0ace",
   "metadata": {},
   "outputs": [
    {
     "data": {
      "text/plain": [
       "tensor(1.4966)"
      ]
     },
     "execution_count": 19,
     "metadata": {},
     "output_type": "execute_result"
    }
   ],
   "source": [
    "loss"
   ]
  },
  {
   "cell_type": "code",
   "execution_count": 21,
   "id": "1be8599b-4551-4f83-a63a-f0b3ee03cee2",
   "metadata": {},
   "outputs": [
    {
     "data": {
      "text/plain": [
       "tensor(1.4966)"
      ]
     },
     "execution_count": 21,
     "metadata": {},
     "output_type": "execute_result"
    }
   ],
   "source": [
    "((prediction-label)**2).mean()"
   ]
  },
  {
   "cell_type": "code",
   "execution_count": 23,
   "id": "c1699706-fde4-44a6-b7dc-abe0e561d950",
   "metadata": {},
   "outputs": [
    {
     "data": {
      "text/plain": [
       "tensor([[ 1.4887, -0.7490,  0.5201, -0.0183, -0.4082],\n",
       "        [ 1.2248,  0.1142,  0.3067, -0.9239,  0.3208],\n",
       "        [ 0.3845,  0.1011,  1.9612, -0.2891,  1.6361],\n",
       "        [-0.2322,  0.6443,  0.0222,  1.0187,  0.1700]])"
      ]
     },
     "execution_count": 23,
     "metadata": {},
     "output_type": "execute_result"
    }
   ],
   "source": [
    "prediction"
   ]
  },
  {
   "cell_type": "code",
   "execution_count": 24,
   "id": "b35f0a8e-0754-4e93-8333-d88da1c8f7e7",
   "metadata": {},
   "outputs": [],
   "source": [
    "label = torch.zeros(4, 5).random_(0, 2)"
   ]
  },
  {
   "cell_type": "code",
   "execution_count": 25,
   "id": "d50aeae0-3a8d-41eb-87ea-27f370cfc7a5",
   "metadata": {},
   "outputs": [
    {
     "data": {
      "text/plain": [
       "tensor([[0., 0., 1., 0., 1.],\n",
       "        [0., 1., 0., 1., 0.],\n",
       "        [0., 0., 1., 1., 0.],\n",
       "        [0., 1., 1., 1., 1.]])"
      ]
     },
     "execution_count": 25,
     "metadata": {},
     "output_type": "execute_result"
    }
   ],
   "source": [
    "label"
   ]
  },
  {
   "cell_type": "code",
   "execution_count": 27,
   "id": "59ee341b-f497-4b4f-b671-b3700540874f",
   "metadata": {},
   "outputs": [],
   "source": [
    "sigmoid = nn.Sigmoid()"
   ]
  },
  {
   "cell_type": "code",
   "execution_count": 31,
   "id": "d2ef1d44-1a11-4aac-a0da-eccdaed69450",
   "metadata": {},
   "outputs": [],
   "source": [
    "bce = nn.BCELoss(reduction = 'mean')"
   ]
  },
  {
   "cell_type": "code",
   "execution_count": 32,
   "id": "fe59c0f5-2b49-44cb-ac9f-23028eb0c8b9",
   "metadata": {},
   "outputs": [
    {
     "data": {
      "text/plain": [
       "BCELoss()"
      ]
     },
     "execution_count": 32,
     "metadata": {},
     "output_type": "execute_result"
    }
   ],
   "source": [
    "bce"
   ]
  },
  {
   "cell_type": "code",
   "execution_count": 33,
   "id": "65459842-5176-4c8c-8969-8039d0fbf971",
   "metadata": {},
   "outputs": [
    {
     "data": {
      "text/plain": [
       "tensor([[0.8159, 0.3210, 0.6272, 0.4954, 0.3993],\n",
       "        [0.7729, 0.5285, 0.5761, 0.2842, 0.5795],\n",
       "        [0.5950, 0.5253, 0.8767, 0.4282, 0.8370],\n",
       "        [0.4422, 0.6557, 0.5056, 0.7347, 0.5424]])"
      ]
     },
     "execution_count": 33,
     "metadata": {},
     "output_type": "execute_result"
    }
   ],
   "source": [
    "sigmoid(prediction)"
   ]
  },
  {
   "cell_type": "code",
   "execution_count": 34,
   "id": "a56f75e2-9ae3-4fe6-ad34-42141d5b6d0a",
   "metadata": {},
   "outputs": [
    {
     "data": {
      "text/plain": [
       "tensor(0.8151)"
      ]
     },
     "execution_count": 34,
     "metadata": {},
     "output_type": "execute_result"
    }
   ],
   "source": [
    "bce(sigmoid(prediction), label)"
   ]
  },
  {
   "cell_type": "code",
   "execution_count": 36,
   "id": "96655f1d-9cf5-4022-ab01-71405cd6b476",
   "metadata": {},
   "outputs": [],
   "source": [
    "bces = bce = nn.BCEWithLogitsLoss(reduction = 'mean')"
   ]
  },
  {
   "cell_type": "code",
   "execution_count": 37,
   "id": "6ffaf228-f100-4af6-b865-3c13b65c6cdb",
   "metadata": {},
   "outputs": [
    {
     "data": {
      "text/plain": [
       "tensor(0.8151)"
      ]
     },
     "execution_count": 37,
     "metadata": {},
     "output_type": "execute_result"
    }
   ],
   "source": [
    "bces(prediction, label)"
   ]
  },
  {
   "cell_type": "code",
   "execution_count": 38,
   "id": "e420fa9b-c24c-48be-986f-fe2a96a3d5b9",
   "metadata": {},
   "outputs": [],
   "source": [
    "# from schratch using lists (yes they are slow)"
   ]
  },
  {
   "cell_type": "code",
   "execution_count": 45,
   "id": "6edde4e9-4e41-4cac-a582-3a198c314522",
   "metadata": {},
   "outputs": [],
   "source": [
    "import numpy as np\n",
    "x = prediction.numpy()\n",
    "y = label.numpy()"
   ]
  },
  {
   "cell_type": "code",
   "execution_count": 47,
   "id": "d4c57346-c63f-4b0c-bb8a-33c3401bba32",
   "metadata": {},
   "outputs": [],
   "source": [
    "def sigmoid(x):\n",
    "    return 1/(1 + np.exp(-x))"
   ]
  },
  {
   "cell_type": "code",
   "execution_count": 56,
   "id": "95ba043d-0803-4448-8787-62aa07a6594a",
   "metadata": {},
   "outputs": [
    {
     "name": "stdout",
     "output_type": "stream",
     "text": [
      "0.7464849\n"
     ]
    }
   ],
   "source": [
    "x = sigmoid(x)\n",
    "loss_values = []\n",
    "# for every batch\n",
    "for i in range(len(y)):\n",
    "    batch_loss = []\n",
    "    # compute loss for every element and append to batch_loss list\n",
    "    for j in range(len(y[0])):\n",
    "        if y[i][j] == 1:\n",
    "            loss = -np.log(x[i][j])\n",
    "        else:\n",
    "            loss = -np.log(1-x[i][j])\n",
    "        batch_loss.append(loss)\n",
    "    loss_values.append(batch_loss)\n",
    "\n",
    "print(np.mean(loss_values))"
   ]
  },
  {
   "cell_type": "code",
   "execution_count": null,
   "id": "d01bf2bc-95ce-4e23-8d18-d3f4f5d92747",
   "metadata": {},
   "outputs": [],
   "source": []
  }
 ],
 "metadata": {
  "kernelspec": {
   "display_name": "Python 3 (ipykernel)",
   "language": "python",
   "name": "python3"
  },
  "language_info": {
   "codemirror_mode": {
    "name": "ipython",
    "version": 3
   },
   "file_extension": ".py",
   "mimetype": "text/x-python",
   "name": "python",
   "nbconvert_exporter": "python",
   "pygments_lexer": "ipython3",
   "version": "3.13.5"
  }
 },
 "nbformat": 4,
 "nbformat_minor": 5
}
